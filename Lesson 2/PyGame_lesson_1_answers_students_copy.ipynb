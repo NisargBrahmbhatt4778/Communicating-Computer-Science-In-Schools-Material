{
 "cells": [
  {
   "cell_type": "code",
   "metadata": {
    "id": "f3-EPaipQLxO"
   },
   "source": [
    "import pygame\n",
    "\n",
    "# Initialize PyGame\n",
    "pygame.init()\n",
    "\n",
    "# Screen dimensions\n",
    "WIDTH, HEIGHT = 800, 600\n",
    "Y_PADDING = 5\n",
    "screen = pygame.display.set_mode((WIDTH, HEIGHT))\n",
    "pygame.display.set_caption(\"Space Shooter\")\n",
    "\n",
    "# Colours\n",
    "BLACK = (0, 0, 0)\n",
    "\n",
    "# Load spaceship image\n",
    "SPACESHIP_IMAGE = pygame.image.load(\"spaceship.png\")\n",
    "SPACESHIP_IMAGE = pygame.transform.scale(SPACESHIP_IMAGE, (50, 50))  # Resize to fit"
   ],
   "outputs": [],
   "execution_count": null
  },
  {
   "cell_type": "markdown",
   "metadata": {
    "id": "EcCiQd6ZQlFG"
   },
   "source": [
    "**Spaceship Class**\n",
    "\n",
    "- This class contains all the differnt attributes of a spaceship\n",
    "  - Position\n",
    "  - What it looks like\n",
    "  - size\n",
    "  - speed\n",
    "\n",
    "**Basic Move Implementaion**\n",
    "\n",
    "This is a basic implementation of the move method that allows the spaceship to move left and right"
   ]
  },
  {
   "cell_type": "code",
   "metadata": {
    "id": "JZeczG8aQWfp"
   },
   "source": [
    "# Spaceship Class\n",
    "class Spaceship:\n",
    "    def init(self, x, y):\n",
    "        self.x = x\n",
    "        self.y = y\n",
    "        self.image = SPACESHIP_IMAGE\n",
    "        self.width = self.image.get_width()\n",
    "        self.height = self.image.get_height()\n",
    "        self.velocity = 5\n",
    "\n",
    "    def draw(self, screen):\n",
    "        screen.blit(self.image, (self.x, self.y-50))\n",
    "    \n",
    "    def move(self, keys):\n",
    "        if keys[pygame.K_LEFT]:\n",
    "            self.x -= self.velocity\n",
    "        if keys[pygame.K_RIGHT]:\n",
    "            self.x += self.velocity\n",
    "\n"
   ],
   "outputs": [],
   "execution_count": null
  },
  {
   "cell_type": "markdown",
   "metadata": {},
   "source": [
    "**Move Implementation 1**\n",
    "\n",
    "Change the move method so that the spaceship cannot leave the screen.\n",
    "- Make sure that the entire spaceship stays in frame. You cannot have half the spaceship off when it's on the edge of the window."
   ]
  },
  {
   "cell_type": "code",
   "metadata": {},
   "source": [
    "\n",
    "# Spaceship Class\n",
    "class Spaceship:\n",
    "    def init(self, x, y):\n",
    "        self.x = x\n",
    "        self.y = y\n",
    "        self.image = SPACESHIP_IMAGE\n",
    "        self.width = self.image.get_width()\n",
    "        self.height = self.image.get_height()\n",
    "        self.velocity = 5\n",
    "\n",
    "    def draw(self, screen):\n",
    "        screen.blit(self.image, (self.x, self.y-50))\n",
    "    \n",
    "    def move(self, keys):\n",
    "        if keys[pygame.K_LEFT] and self.x > 0:\n",
    "            self.x -= self.velocity\n",
    "        if keys[pygame.K_RIGHT] and self.x + self.width < WIDTH:\n",
    "            self.x += self.velocity\n",
    "    "
   ],
   "outputs": [],
   "execution_count": null
  },
  {
   "cell_type": "markdown",
   "metadata": {},
   "source": [
    "**Move Implementation 2**\n",
    "\n",
    "Modify the move method so that in addition to what you implemeted in the first implementation, now the spaceship can travel up and down. \n",
    "- Once again, make sure the spaceship always remains within the window. \n",
    "\n",
    "How to start:\n",
    "- Start by copying your working code from implementation 1 and then build on it below."
   ]
  },
  {
   "cell_type": "code",
   "metadata": {},
   "source": [
    "# Spaceship Class\n",
    "class Spaceship:\n",
    "    def init(self, x, y):\n",
    "        self.x = x\n",
    "        self.y = y\n",
    "        self.image = SPACESHIP_IMAGE\n",
    "        self.width = self.image.get_width()\n",
    "        self.height = self.image.get_height()\n",
    "        self.velocity = 5\n",
    "\n",
    "    def draw(self, screen):\n",
    "        screen.blit(self.image, (self.x, self.y-50))\n",
    "    \n",
    "    def move(self, keys):\n",
    "        if keys[pygame.K_LEFT] and self.x > 0:\n",
    "            self.x -= self.velocity\n",
    "        if keys[pygame.K_RIGHT] and self.x + self.width < WIDTH:\n",
    "            self.x += self.velocity\n",
    "        if keys[pygame.K_UP] and self.y - self.height > 0:\n",
    "            self.y -= self.velocity\n",
    "        if keys[pygame.K_DOWN] and self.y < HEIGHT:\n",
    "            self.y += self.velocity\n"
   ],
   "outputs": [],
   "execution_count": null
  },
  {
   "cell_type": "markdown",
   "metadata": {},
   "source": [
    "**Move Implementation 3**\n",
    "\n",
    "This time, instead of stopping the spaceship when it reaches the edge, make the spaceship loop back round to the other side. So if the spaceship reaches the left hand side of the screen, it should re appear on the right hand side.\n",
    "\n",
    "How to start:\n",
    "- Start by copying your working code from implementation 2 and then build on it below."
   ]
  },
  {
   "cell_type": "code",
   "metadata": {},
   "source": [
    "# Spaceship Class\n",
    "class Spaceship:\n",
    "    def init(self, x, y):\n",
    "        self.x = x\n",
    "        self.y = y\n",
    "        self.image = SPACESHIP_IMAGE\n",
    "        self.width = self.image.get_width()\n",
    "        self.height = self.image.get_height()\n",
    "        self.velocity = 5\n",
    "\n",
    "    def draw(self, screen):\n",
    "        screen.blit(self.image, (self.x, self.y-50))\n",
    "    \n",
    "    def move(self, keys):\n",
    "        if keys[pygame.K_LEFT]:\n",
    "            self.x -= self.velocity\n",
    "        if keys[pygame.K_RIGHT]:\n",
    "            self.x += self.velocity\n",
    "        if keys[pygame.K_UP]:\n",
    "            self.y -= self.velocity\n",
    "        if keys[pygame.K_DOWN]:\n",
    "            self.y += self.velocity\n",
    "\n",
    "        # Wrap around logic\n",
    "        if self.x < 0:\n",
    "            self.x = WIDTH\n",
    "        elif self.x > WIDTH:\n",
    "            self.x = 0\n",
    "        if self.y < 0:\n",
    "            self.y = HEIGHT\n",
    "        elif self.y > HEIGHT:\n",
    "            self.y = 0\n"
   ],
   "outputs": [],
   "execution_count": null
  },
  {
   "cell_type": "markdown",
   "metadata": {},
   "source": [
    "**Move Implementation 4**\n",
    "\n",
    "Modify the move method so that in addition to what you implemeted in either the 2nd or 3rd implementations, now the spaceship should:\n",
    "- Face left when travelling left\n",
    "- Face right when travelling right\n",
    "- Face up when travelling up\n",
    "- Face down when travelling down\n",
    "- The default position of the spaceship should always be upwards, so when it is not moving, it should face up.\n",
    " \n",
    "How to start:\n",
    "- Start by copying your working code from implementation 2 or 3 and then build on it below.\n",
    "- If you don't know how to rotate the spaceship, Google it!"
   ]
  },
  {
   "cell_type": "code",
   "metadata": {},
   "source": [
    "# Spaceship Class\n",
    "class Spaceship:\n",
    "    def __init__(self, x, y):\n",
    "        self.x = x\n",
    "        self.y = y\n",
    "        self.image = SPACESHIP_IMAGE\n",
    "        self.width = self.image.get_width()\n",
    "        self.height = self.image.get_height()\n",
    "        self.velocity = 3\n",
    "        self.angle = 0\n",
    "\n",
    "    def draw(self, screen):\n",
    "        rotated_image = pygame.transform.rotate(self.image, self.angle)\n",
    "        new_rect = rotated_image.get_rect(center=self.image.get_rect(topleft=(self.x, self.y - 50)).center)\n",
    "        screen.blit(rotated_image, new_rect.topleft)\n",
    "\n",
    "    def move(self, keys):\n",
    "        if keys[pygame.K_UP] and keys[pygame.K_LEFT] and self.x > 0 and self.y - self.height > 0:\n",
    "            self.x -= self.velocity\n",
    "            self.y -= self.velocity\n",
    "            self.angle = 45  # Face top-left\n",
    "        elif keys[pygame.K_UP] and keys[pygame.K_RIGHT] and self.x + self.width < WIDTH and self.y - self.height > 0:\n",
    "            self.x += self.velocity\n",
    "            self.y -= self.velocity\n",
    "            self.angle = -45  # Face top-right\n",
    "        elif keys[pygame.K_DOWN] and keys[pygame.K_LEFT] and self.x > 0 and self.y + Y_PADDING <= HEIGHT:\n",
    "            self.x -= self.velocity\n",
    "            self.y += self.velocity\n",
    "            self.angle = 135  # Face bottom-left\n",
    "        elif keys[pygame.K_DOWN] and keys[pygame.K_RIGHT] and self.x + self.width < WIDTH and self.y + Y_PADDING <= HEIGHT:\n",
    "            self.x += self.velocity\n",
    "            self.y += self.velocity\n",
    "            self.angle = -135  # Face bottom-right\n",
    "        elif keys[pygame.K_LEFT] and self.x > 0:\n",
    "            self.x -= self.velocity\n",
    "            self.angle = 90  # Face left\n",
    "        elif keys[pygame.K_RIGHT] and self.x + self.width < WIDTH:\n",
    "            self.x += self.velocity\n",
    "            self.angle = -90  # Face right\n",
    "        elif keys[pygame.K_UP] and self.y - self.height > 0:\n",
    "            self.y -= self.velocity\n",
    "            self.angle = 0  # Face up\n",
    "        elif keys[pygame.K_DOWN] and self.y + Y_PADDING <= HEIGHT:\n",
    "            self.y += self.velocity\n",
    "            self.angle = 180  # Face down\n",
    "        else:\n",
    "            self.angle = 0  # Default position facing upwards"
   ],
   "outputs": [],
   "execution_count": null
  },
  {
   "cell_type": "markdown",
   "metadata": {
    "id": "CZTWJ9JOQkdm"
   },
   "source": [
    "**MAIN**"
   ]
  },
  {
   "cell_type": "code",
   "metadata": {
    "colab": {
     "base_uri": "https://localhost:8080/",
     "height": 292
    },
    "id": "o741JDe02vlt",
    "outputId": "7da2a8a2-f977-4fab-c52d-59aa8f7f2dec"
   },
   "source": [
    "# Main game loop\n",
    "def main():\n",
    "    clock = pygame.time.Clock()\n",
    "    run = True\n",
    "    spaceship = Spaceship(WIDTH // 2, HEIGHT - 60)\n",
    "\n",
    "    while run:\n",
    "        clock.tick(60)\n",
    "        screen.fill(BLACK)\n",
    "\n",
    "        for event in pygame.event.get():\n",
    "            if event.type == pygame.QUIT:\n",
    "                run = False\n",
    "\n",
    "        keys = pygame.key.get_pressed()\n",
    "        spaceship.move(keys)\n",
    "        spaceship.draw(screen)\n",
    "\n",
    "        pygame.display.flip()\n",
    "\n",
    "    pygame.quit()\n",
    "\n",
    "if __name__ == \"__main__\":\n",
    "    main()"
   ],
   "outputs": [],
   "execution_count": null
  }
 ],
 "metadata": {
  "colab": {
   "provenance": []
  },
  "kernelspec": {
   "display_name": "Python 3 (ipykernel)",
   "name": "python3",
   "language": "python"
  },
  "language_info": {
   "codemirror_mode": {
    "name": "ipython",
    "version": 3
   },
   "file_extension": ".py",
   "mimetype": "text/x-python",
   "name": "python",
   "nbconvert_exporter": "python",
   "pygments_lexer": "ipython3",
   "version": "3.13.1"
  }
 },
 "nbformat": 4,
 "nbformat_minor": 0
}
