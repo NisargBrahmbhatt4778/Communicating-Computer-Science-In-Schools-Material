{
 "cells": [
  {
   "metadata": {},
   "cell_type": "markdown",
   "source": [
    "**Lesson 2**\n",
    "- Last week we made the spaceship move. The code for which is below.\n",
    "- If you managed to do implementation 4, then you can use your own code, otherwise use the code provided.\n",
    "\n",
    "**How to Run the Game**\n",
    "- Whenever you want to run the game, make sure to first run the import block, then the block with the spaceship class, followed by whatever else you want to run for implementing the shooting mechanics. Finally run the code block labelled 'Main'"
   ]
  },
  {
   "cell_type": "code",
   "metadata": {
    "id": "f3-EPaipQLxO"
   },
   "source": [
    "import pygame\n",
    "\n",
    "# Initialize PyGame\n",
    "pygame.init()\n",
    "\n",
    "# Screen dimensions\n",
    "WIDTH, HEIGHT = 800, 600\n",
    "Y_PADDING = 5\n",
    "screen = pygame.display.set_mode((WIDTH, HEIGHT))\n",
    "pygame.display.set_caption(\"Space Shooter\")\n",
    "\n",
    "# Colours\n",
    "BLACK = (0, 0, 0)\n",
    "\n",
    "# Load spaceship image\n",
    "SPACESHIP_IMAGE = pygame.image.load(\"spaceship.png\")\n",
    "SPACESHIP_IMAGE = pygame.transform.scale(SPACESHIP_IMAGE, (50, 50))  # Resize to fit\n",
    "\n",
    "BULLET_IMAGE = pygame.image.load(\"bullet.png\")  # Ensure bullet.png is in the same directory\n",
    "BULLET_IMAGE = pygame.transform.scale(BULLET_IMAGE, (10, 20))  # Resize for appropriate scaling"
   ],
   "outputs": [],
   "execution_count": null
  },
  {
   "metadata": {},
   "cell_type": "markdown",
   "source": [
    "**1. Modify the Spaceship Class**\n",
    "- Like demonstrated, modify the Spaceship class to make all the attributes private (by adding a leading __)\n",
    "- Create getters and setters for the attribute as needed\n",
    "- Update Main so that it uses the getters/setters"
   ]
  },
  {
   "cell_type": "code",
   "metadata": {},
   "source": [
    "\n",
    "\n",
    "### Replace this class with your implementation 4 ###\n",
    "\n",
    "class Spaceship:\n",
    "    def __init__(self, x, y):\n",
    "        self.x = x\n",
    "        self.y = y\n",
    "        self.image = SPACESHIP_IMAGE\n",
    "        self.width = self.image.get_width()\n",
    "        self.height = self.image.get_height()\n",
    "        self.velocity = 3\n",
    "        self.angle = 0\n",
    "\n",
    "    def draw(self, screen):\n",
    "        rotated_image = pygame.transform.rotate(self.image, self.angle)\n",
    "        new_rect = rotated_image.get_rect(center=self.image.get_rect(topleft=(self.x, self.y - 50)).center)\n",
    "        screen.blit(rotated_image, new_rect.topleft)\n",
    "\n",
    "    def move(self, keys):\n",
    "        dx, dy = 0, 0  # Change in x and y\n",
    "        angle = 0  # Default angle\n",
    "\n",
    "        if keys[pygame.K_LEFT] and self.x > 0:\n",
    "            dx = -self.velocity\n",
    "            angle = 90\n",
    "        if keys[pygame.K_RIGHT] and self.x + self.width < WIDTH:\n",
    "            dx = self.velocity\n",
    "            angle = -90\n",
    "        if keys[pygame.K_UP] and self.y - self.height > 0:\n",
    "            dy = -self.velocity\n",
    "            angle = 0\n",
    "        if keys[pygame.K_DOWN] and self.y + Y_PADDING <= HEIGHT:\n",
    "            dy = self.velocity\n",
    "            angle = 180\n",
    "\n",
    "        # Handle diagonal movement\n",
    "        if dx < 0 and dy < 0:\n",
    "            angle = 45  # Up-left\n",
    "        elif dx > 0 and dy < 0:\n",
    "            angle = -45  # Up-right\n",
    "        elif dx < 0 and dy > 0:\n",
    "            angle = 135  # Down-left\n",
    "        elif dx > 0 and dy > 0:\n",
    "            angle = -135  # Down-right\n",
    "\n",
    "        # Apply movement\n",
    "        self.x += dx\n",
    "        self.y += dy\n",
    "        self.angle = angle  # Update rotation angle"
   ],
   "outputs": [],
   "execution_count": null
  },
  {
   "metadata": {},
   "cell_type": "markdown",
   "source": [
    "**2. Bullet Class**\n",
    "- You will now need to implement the bullet class. I have given you the skeleton for the class but you will need to think about what attributes are required\n",
    "    - The bullets need to fire from the centre of the spaceship\n",
    "    - They should travel upwards\n",
    "    - You need to press spacebar to shoot the bullets, holding the spacebar will continiously shoot the bullet\n",
    "\n",
    "\n",
    "*Things to think about*\n",
    "- All the attributes you will need for the bullet class, what sort of data would you need about a bullet?\n",
    "- Are all the attributes private? Have you created the getters and setters?\n",
    "- When would you need to make a new bullet\n",
    "- How will you keep track of all the bullets?\n",
    "- What do you do once the bullet is off the screen\n",
    "- Holding down the space bar will make 60 bullets a second (probably not what you want). Figure out how to delay each shot so that it's not just a streak of bullets\n",
    "\n",
    "*Rough order of implementation*\n",
    "- Complete the Bullet class and complete all the methods\n",
    "- Then modify main to implement the change"
   ]
  },
  {
   "metadata": {},
   "cell_type": "code",
   "source": [
    "# Bullet class\n",
    "class Bullet:\n",
    "    def __init__(self):\n",
    "        # Think about the attributes you would want the bullet class to have.\n",
    "        pass\n",
    "\n",
    "    def draw(self, screen):\n",
    "        # Implement the draw methods for this class. Look at how this is done in the Spaceship class\n",
    "        pass\n",
    "\n",
    "    def move(self):\n",
    "        # Think about how would/should this bullet move\n",
    "        pass"
   ],
   "outputs": [],
   "execution_count": null
  },
  {
   "metadata": {},
   "cell_type": "markdown",
   "source": [
    "**3. Improve Bullet Class**\n",
    "- Now that your bullet class is working, change it so that the bullet fires in the direction that it is facing. For example, if the spaceship is facing the top left, then the bullet also needs to shoot in that direction.\n",
    "- Feel free to make any other improvements that you can think of.\n",
    "    - How can you make it shoot 3 bullets instead of 1?\n",
    "\n",
    "\n",
    "*Prerequisite*\n",
    "- In order to implement this, your spaceship will need to face in the direction it is travelling. If you are using my implementation then this is already done for you, however, if you are using your own implementation, please make sure that this works."
   ]
  },
  {
   "metadata": {},
   "cell_type": "code",
   "source": "######### COPY YOUR BULLET CLASS HERE AND THEN IMPROVE IT #########",
   "outputs": [],
   "execution_count": null
  },
  {
   "metadata": {},
   "cell_type": "markdown",
   "source": [
    "**4. Fast Bullet Implementation**\n",
    "- Create a new bullet class called `FastBullet` where the bullet travels faster than the normal bullet.\n",
    "- One key difference with this bullet is that it will only be able to travel 100 pixels from it's starting position before it disappears.\n",
    "\n",
    "*How to implement it*\n",
    "- Make this bullet only fire when the `F` key is pressed (you can change it and make it any other key if you like)\n",
    "- This should not change how the normal bullet works, that should still fire when you press the space bar.\n"
   ]
  },
  {
   "metadata": {},
   "cell_type": "code",
   "source": [
    "# Fast Bullet class\n",
    "class FastBullet:\n",
    "    def __init__(self):\n",
    "        # Think about the attributes you would want the bullet class to have.\n",
    "        pass\n",
    "\n",
    "    def draw(self, screen):\n",
    "        # Implement the draw methods for this class. Look at how this is done in the Spaceship class\n",
    "        pass\n",
    "\n",
    "    def move(self):\n",
    "        # Think about how would/should this bullet move\n",
    "        pass"
   ],
   "outputs": [],
   "execution_count": null
  },
  {
   "metadata": {},
   "cell_type": "markdown",
   "source": [
    "**5. Ricochet Bullet**\n",
    "- This is an extension so only do this once you have completed everything before this point!\n",
    "- Implement a bullet that can bounce off 2 walls before disheartening\n",
    "\n",
    "*Things to think about*\n",
    "- How will you keep track of how many times it's bounced?\n",
    "- Think about the image and what direction it is facing (look at how it's done for the spaceship class to give you an idea)\n",
    "\n",
    "*How to implement it*\n",
    "- Make this bullet only fire when the `R` key is pressed (you can change it and make it any other key if you like)\n",
    "- This should not change how the normal bullet works, that should still fire when you press the space bar.\n"
   ]
  },
  {
   "metadata": {},
   "cell_type": "code",
   "source": [
    "# Ricochet Bullet class\n",
    "class RicochetBullet:\n",
    "    def __init__(self):\n",
    "        # Think about the attributes you would want the bullet class to have.\n",
    "        pass\n",
    "\n",
    "    def draw(self, screen):\n",
    "        # Implement the draw methods for this class. Look at how this is done in the Spaceship class\n",
    "        pass\n",
    "\n",
    "    def move(self):\n",
    "        # Think about how would/should this bullet move\n",
    "        pass"
   ],
   "outputs": [],
   "execution_count": null
  },
  {
   "cell_type": "markdown",
   "metadata": {
    "id": "CZTWJ9JOQkdm"
   },
   "source": [
    "**MAIN**"
   ]
  },
  {
   "cell_type": "code",
   "metadata": {
    "colab": {
     "base_uri": "https://localhost:8080/",
     "height": 292
    },
    "id": "o741JDe02vlt",
    "outputId": "7da2a8a2-f977-4fab-c52d-59aa8f7f2dec"
   },
   "source": [
    "# Main game loop\n",
    "def main():\n",
    "    clock = pygame.time.Clock()\n",
    "    run = True\n",
    "    spaceship = Spaceship(WIDTH // 2, HEIGHT - 60)\n",
    "\n",
    "    while run:\n",
    "        clock.tick(60)\n",
    "        screen.fill(BLACK)\n",
    "\n",
    "        for event in pygame.event.get():\n",
    "            if event.type == pygame.QUIT:\n",
    "                run = False\n",
    "\n",
    "        keys = pygame.key.get_pressed()\n",
    "        spaceship.move(keys)\n",
    "        spaceship.draw(screen)\n",
    "\n",
    "        pygame.display.flip()\n",
    "\n",
    "    pygame.quit()\n",
    "\n",
    "if __name__ == \"__main__\":\n",
    "    main()"
   ],
   "outputs": [],
   "execution_count": null
  }
 ],
 "metadata": {
  "colab": {
   "provenance": []
  },
  "kernelspec": {
   "display_name": "Python 3 (ipykernel)",
   "name": "python3",
   "language": "python"
  },
  "language_info": {
   "codemirror_mode": {
    "name": "ipython",
    "version": 3
   },
   "file_extension": ".py",
   "mimetype": "text/x-python",
   "name": "python",
   "nbconvert_exporter": "python",
   "pygments_lexer": "ipython3",
   "version": "3.13.1"
  }
 },
 "nbformat": 4,
 "nbformat_minor": 0
}
