{
 "cells": [
  {
   "metadata": {},
   "cell_type": "markdown",
   "source": [
    "**Lesson 4**\n",
    "\n",
    "**How to Run the Game**\n",
    "- Whenever you want to run the game, make sure to first run the import block, then the block with the spaceship class, followed by whatever else you want to run for implementing the shooting mechanics. Finally run the code block labelled 'Main'"
   ]
  },
  {
   "cell_type": "code",
   "metadata": {
    "id": "f3-EPaipQLxO"
   },
   "source": [
    "import pygame\n",
    "\n",
    "\n",
    "# Initialize PyGame\n",
    "pygame.init()\n",
    "\n",
    "# Screen dimensions\n",
    "WIDTH, HEIGHT = 800, 600\n",
    "Y_PADDING = 5\n",
    "screen = pygame.display.set_mode((WIDTH, HEIGHT))\n",
    "pygame.display.set_caption(\"Space Shooter\")\n",
    "\n",
    "# Colours\n",
    "BLACK = (0, 0, 0)\n",
    "\n",
    "# Load spaceship image\n",
    "SPACESHIP_IMAGE = pygame.image.load(\"spaceship.png\")\n",
    "SPACESHIP_IMAGE = pygame.transform.scale(SPACESHIP_IMAGE, (50, 50))  # Resize to fit\n",
    "\n",
    "# Load bullet image\n",
    "BULLET_IMAGE = pygame.image.load(\"bullet.png\")  # Ensure bullet.png is in the same directory\n",
    "BULLET_IMAGE = pygame.transform.scale(BULLET_IMAGE, (10, 20))  # Resize for appropriate scaling\n",
    "\n",
    "# Load asteroid image\n",
    "ASTEROID_IMAGE = pygame.image.load(\"asteroid.png\")  # Ensure asteroid.png is in the same directory\n",
    "ASTEROID_IMAGE = pygame.transform.scale(ASTEROID_IMAGE, (40, 40))  # Resize for appropriate scaling"
   ],
   "outputs": [],
   "execution_count": null
  },
  {
   "metadata": {},
   "cell_type": "markdown",
   "source": [
    "**Spaceship Class**\n",
    "\n",
    "_Replace below code with your spaceship class if you completed the 4th movement implementation. If not then use the code provided._\n"
   ]
  },
  {
   "cell_type": "code",
   "metadata": {},
   "source": [
    "\n",
    "\n",
    "### Replace this class with your Movement implementation 4 ###\n",
    "\n",
    "class Spaceship:\n",
    "    def __init__(self, x, y):\n",
    "        self.x = x\n",
    "        self.y = y\n",
    "        self.image = SPACESHIP_IMAGE\n",
    "        self.width = self.image.get_width()\n",
    "        self.height = self.image.get_height()\n",
    "        self.velocity = 3\n",
    "        self.angle = 0\n",
    "\n",
    "    def draw(self, screen):\n",
    "        rotated_image = pygame.transform.rotate(self.image, self.angle)\n",
    "        new_rect = rotated_image.get_rect(center=self.image.get_rect(topleft=(self.x, self.y - 50)).center)\n",
    "        screen.blit(rotated_image, new_rect.topleft)\n",
    "\n",
    "    def move(self, keys):\n",
    "        dx, dy = 0, 0  # Change in x and y\n",
    "        angle = 0  # Default angle\n",
    "\n",
    "        if keys[pygame.K_LEFT] and self.x > 0:\n",
    "            dx = -self.velocity\n",
    "            angle = 90\n",
    "        if keys[pygame.K_RIGHT] and self.x + self.width < WIDTH:\n",
    "            dx = self.velocity\n",
    "            angle = -90\n",
    "        if keys[pygame.K_UP] and self.y - self.height > 0:\n",
    "            dy = -self.velocity\n",
    "            angle = 0\n",
    "        if keys[pygame.K_DOWN] and self.y + Y_PADDING <= HEIGHT:\n",
    "            dy = self.velocity\n",
    "            angle = 180\n",
    "\n",
    "        # Handle diagonal movement\n",
    "        if dx < 0 and dy < 0:\n",
    "            angle = 45  # Up-left\n",
    "        elif dx > 0 and dy < 0:\n",
    "            angle = -45  # Up-right\n",
    "        elif dx < 0 and dy > 0:\n",
    "            angle = 135  # Down-left\n",
    "        elif dx > 0 and dy > 0:\n",
    "            angle = -135  # Down-right\n",
    "\n",
    "        # Apply movement\n",
    "        self.x += dx\n",
    "        self.y += dy\n",
    "        self.angle = angle  # Update rotation angle"
   ],
   "outputs": [],
   "execution_count": null
  },
  {
   "metadata": {},
   "cell_type": "markdown",
   "source": "**Asteroid Class**\n"
  },
  {
   "metadata": {},
   "cell_type": "code",
   "source": "######### ADD YOUR ASTEROID CLASS CODE HERE #########",
   "outputs": [],
   "execution_count": null
  },
  {
   "metadata": {},
   "cell_type": "markdown",
   "source": "**Improved Bullet Class**"
  },
  {
   "metadata": {},
   "cell_type": "code",
   "source": "######### ADD YOUR IMPROVED BULLET CLASS CODE HERE #########",
   "outputs": [],
   "execution_count": null
  },
  {
   "metadata": {},
   "cell_type": "markdown",
   "source": "**Fast Bullet Class**"
  },
  {
   "metadata": {},
   "cell_type": "code",
   "source": "######### ADD YOUR FAST BULLET CLASS CODE HERE #########",
   "outputs": [],
   "execution_count": null
  },
  {
   "metadata": {},
   "cell_type": "markdown",
   "source": "**Ricochet Bullet Class**"
  },
  {
   "metadata": {},
   "cell_type": "code",
   "source": "######### ADD YOUR RICOCHET BULLET CLASS CODE HERE #########",
   "outputs": [],
   "execution_count": null
  },
  {
   "metadata": {},
   "cell_type": "markdown",
   "source": [
    "**1. Collision logic**\n",
    "- When an asteroid collides with the spaceship, the game should end (or you can come up with a system to track how many lives a person gets). Probably best to implement the game ending feature first.\n",
    "- Implement the logic so that if any part of the asteroid hits any part of the spaceship, the game ends (or you lose a life).\n",
    "- To implement this, there is a method that you will need to add to both the Spaceship class and the asteroid class.\n",
    "- You will then also need to constantly check if any asteroids collide with the spaceship. Where would you need to add the code to do this?\n",
    "\n",
    "Hint:\n",
    "- Pygame has a very useful feature to help out with detecting collisions. Google it!"
   ]
  },
  {
   "metadata": {},
   "cell_type": "markdown",
   "source": [
    "**2. Implement Bullet collision**\n",
    "- Now that you have some idea of how collisions work, implement it for the bullet class.\n",
    "- Think about how you want the bullet to behave when it hits an asteroid. Do you want a single bullet to instantly destroy an asteroid, or will it require multiple hits? Implement this however you want."
   ]
  },
  {
   "metadata": {
    "id": "CZTWJ9JOQkdm"
   },
   "cell_type": "markdown",
   "source": "**MAIN**"
  },
  {
   "metadata": {
    "colab": {
     "base_uri": "https://localhost:8080/",
     "height": 292
    },
    "id": "o741JDe02vlt",
    "outputId": "7da2a8a2-f977-4fab-c52d-59aa8f7f2dec"
   },
   "cell_type": "code",
   "source": [
    "# Main game loop\n",
    "def main():\n",
    "    clock = pygame.time.Clock()\n",
    "    run = True\n",
    "    spaceship = Spaceship(WIDTH // 2, HEIGHT - 60)\n",
    "    asteroids = []  # List to track active asteroids\n",
    "    asteroid_spawn_timer = 0  # Timer to control asteroid spawn interval\n",
    "\n",
    "    while run:\n",
    "        clock.tick(60)\n",
    "        screen.fill(BLACK)\n",
    "\n",
    "        # Event handling\n",
    "        for event in pygame.event.get():\n",
    "            if event.type == pygame.QUIT:\n",
    "                run = False\n",
    "\n",
    "        # Movement and drawing of the spaceship\n",
    "        keys = pygame.key.get_pressed()\n",
    "        spaceship.move(keys)\n",
    "        spaceship.draw(screen)\n",
    "\n",
    "        pygame.display.flip()\n",
    "\n",
    "    pygame.quit()\n",
    "\n",
    "if __name__ == \"__main__\":\n",
    "    main()"
   ],
   "outputs": [],
   "execution_count": null
  }
 ],
 "metadata": {
  "colab": {
   "provenance": []
  },
  "kernelspec": {
   "display_name": "Python 3 (ipykernel)",
   "name": "python3",
   "language": "python"
  },
  "language_info": {
   "codemirror_mode": {
    "name": "ipython",
    "version": 3
   },
   "file_extension": ".py",
   "mimetype": "text/x-python",
   "name": "python",
   "nbconvert_exporter": "python",
   "pygments_lexer": "ipython3",
   "version": "3.13.1"
  }
 },
 "nbformat": 4,
 "nbformat_minor": 0
}
